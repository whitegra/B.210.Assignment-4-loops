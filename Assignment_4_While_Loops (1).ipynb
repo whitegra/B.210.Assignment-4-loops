{
  "cells": [
    {
      "cell_type": "markdown",
      "source": [
        "LCM / GCF CALCULATOR"
      ],
      "metadata": {
        "id": "vW4zF9uzoykN"
      }
    },
    {
      "cell_type": "markdown",
      "source": [
        "THIS IF FOR THE CHARACTER SCANNER"
      ],
      "metadata": {
        "id": "KvhExwFiA0A-"
      }
    },
    {
      "cell_type": "code",
      "source": [
        "def lcm_gcf():\n",
        "    while True:\n",
        "        try:\n",
        "            num_1 = input(\"Enter the first number: \")\n",
        "            # to make sure integer is positive\n",
        "            if num_1[0] == \"-\":\n",
        "                print(\"You have entered a negative integer. Please try again.\")\n",
        "                continue\n",
        "\n",
        "            num_2 = input(\"Enter the second number: \")\n",
        "            # same w/ num_1\n",
        "            if num_2[0] == \"-\":\n",
        "                print(\"You have entered a negative integer. Please try again. \")\n",
        "                continue\n",
        "\n",
        "            # define numbers as integers to handle ValueErrors\n",
        "            num_1 = int(num_1)\n",
        "            num_2 = int(num_2)\n",
        "        # in case the user doesn't enter an integer\n",
        "        except ValueError:\n",
        "            print(\"You have entered an invalid integer. Please try again\")\n",
        "            continue\n",
        "\n",
        "        # find smallest and largest integers for the calculations\n",
        "        if num_1 > num_2:\n",
        "            largest_num = num_1\n",
        "            smallest_num = num_2\n",
        "        else:\n",
        "            largest_num = num_2\n",
        "            smallest_num = num_1\n",
        "\n",
        "        # calculation choice\n",
        "        calc_choice = input(\"Enter the calculation you would like to perform ('g' for GCF or 'l' for LCM): \")\n",
        "        # if the user types an invalid option ...\n",
        "        if calc_choice != 'g' and calc_choice != 'l':\n",
        "            print(\"Invalid choice. Please try again. \")\n",
        "            continue\n",
        "\n",
        "        # for GCF (smallest_num % larger_num i - 1)\n",
        "        elif calc_choice == 'g':\n",
        "            while True:\n",
        "                if num_1 % smallest_num == 0 and num_2 % smallest_num == 0:\n",
        "                    GCF_num = smallest_num\n",
        "                    break\n",
        "                # iterate by -1 if the condition isn't met (GO)\n",
        "                smallest_num -= 1\n",
        "\n",
        "            print(\"________________________\")\n",
        "            print(\"The GCF is:\", GCF_num)\n",
        "            print(\"________________________\")\n",
        "            break\n",
        "\n",
        "        # for LCM (largest_num % smallest_num i + 1)   #LCM IS 1 * 2 % == 0 (SMALLEST MULT FACTOR NOT FROM LARGEST NUM AND I += 1 NOT MINUS)\n",
        "        elif calc_choice == 'l':\n",
        "            l_largest_num = largest_num\n",
        "            while True:\n",
        "                if l_largest_num % num_1 == 0 and l_largest_num % num_2 == 0:\n",
        "                    LCM_num = l_largest_num\n",
        "                    break\n",
        "                # iterate by (i + 1)\n",
        "                l_largest_num += 1\n",
        "\n",
        "            print(\"________________________\")\n",
        "            print(\"The LCM is:\", LCM_num)\n",
        "            print(\"________________________\")\n",
        "            break\n",
        "\n"
      ],
      "metadata": {
        "id": "ACWAXrvQOIbn"
      },
      "execution_count": 15,
      "outputs": []
    },
    {
      "cell_type": "markdown",
      "source": [
        "THIS IS FOR PASSAGE SCANNER\n",
        "- it should work as expected .... hopefully ...."
      ],
      "metadata": {
        "id": "vZfewnImPi5b"
      }
    },
    {
      "cell_type": "code",
      "source": [
        "def passage_scanner():\n",
        "  while True:   # PUT RUN_AGAIN IN MAIN\n",
        "    passage_text = input(\"Enter a passage that is at lease 200 chracters long: \")\n",
        "    # to make sure passage > 200 characters **IT HAS TO BE MORE THAN 200 NOT LESS**\n",
        "    if len(pasaage_text) < 200:\n",
        "      pasaage_text = input(\"Plase neter a pasaage that is at lease 200 characters long. \")\n",
        "\n",
        "    user_char = input(\"Enter a the character you would like to scan the pasaage for: \")\n",
        "    # in case user enters more than one character OR if the char isnt in the passage .....\n",
        "    if len(user_char) > 1 or user_char not in passage_text:   # this is in case its more than 1 character OR if the chracter is not in the passage\n",
        "      user_char = input(\"Please re enter a character: \")\n",
        "\n",
        "    # TO CHECK AND COUNT IN PASSAGE\n",
        "    user_char_count = 0\n",
        "    for character in passage_text:\n",
        "      if character == user_char:\n",
        "        # if the character is in the passage, count 1...\n",
        "        user_char_count += 1\n",
        "      # to print the number of times the chracter is in the passage:\n",
        "      print(\"The number of time that the character appeared in the passage\", user_char_count)"
      ],
      "metadata": {
        "id": "jD0vOAsBzA2h"
      },
      "execution_count": 16,
      "outputs": []
    },
    {
      "cell_type": "markdown",
      "source": [
        "MAIN\n",
        "- references def lcm_gcf()\n",
        "- referneces passage_scanner()\n",
        "- 'stop' to exit"
      ],
      "metadata": {
        "id": "CsMc9kIo4-sO"
      }
    },
    {
      "cell_type": "code",
      "source": [
        "while True:\n",
        "  # for user to chose the program\n",
        "  program_choice = input(\"Enter the program you would like to run: ('c' for LCM/ GCF or 'p' for passage: )\")\n",
        "\n",
        "  # in case user enters an invalid program choice\n",
        "  if program_choice != 'c' and program_choice != 'p':\n",
        "    print(\"Invalid choice. Please try again. \")\n",
        "    continue\n",
        "\n",
        "  # FOR LCM / GCF\n",
        "  elif program_choice == 'c':\n",
        "    lcm_gcf()\n",
        "    run_again = input(\"Would you like to run the program again? ('y' for yes, 'stop' to exit. ): \") # MUST BE IN MAIN WILL NOT WORK IN USER DEF FUNCT\n",
        "    if run_again != 'y':\n",
        "      break\n",
        "    else:\n",
        "      lcm_gcf()\n",
        "  # FOR PASSAGE SCANNER\n",
        "  elif program_choice == 'p':\n",
        "    passage_scanner()\n",
        "    run_passage_again = input(\"Would you like to run the program again? ('y' for yes, 'stop' to exit. \") # AGAIN, PUT IN MAIN\n",
        "    if run_again != 'y':\n",
        "      break\n",
        "    else:\n",
        "      run_passage_again()\n",
        "  # invlaid choice\n",
        "  else:\n",
        "    print(\"invalid choice. Please try again. /n\")\n",
        "    continue\n",
        "# run program again (while loop)\n",
        "  run_program_again = input(\"Would you like to run the program again? ('y' for yes, 'stop' to exit): \")\n",
        "  if run_program_again != 'y':\n",
        "    break"
      ],
      "metadata": {
        "colab": {
          "base_uri": "https://localhost:8080/"
        },
        "id": "xy8c48eD4_rq",
        "outputId": "9af0f2e5-04eb-4059-bc34-738729f9bc6e"
      },
      "execution_count": 17,
      "outputs": [
        {
          "name": "stdout",
          "output_type": "stream",
          "text": [
            "Enter the program you would like to run: ('c' for LCM/ GCF or 'p' for passage: )c\n",
            "Enter the first number: 4\n",
            "Enter the second number: 6\n",
            "Enter the calculation you would like to perform ('g' for GCF or 'l' for LCM): l\n",
            "________________________\n",
            "The LCM is: 12\n",
            "________________________\n",
            "Would you like to run the program again? ('y' for yes, 'stop' to exit. ): y\n",
            "Enter the first number: 9\n",
            "Enter the second number: 3\n",
            "Enter the calculation you would like to perform ('g' for GCF or 'l' for LCM): l\n",
            "________________________\n",
            "The LCM is: 9\n",
            "________________________\n",
            "Would you like to run the program again? ('y' for yes, 'stop' to exit): y\n",
            "Enter the program you would like to run: ('c' for LCM/ GCF or 'p' for passage: )c\n",
            "Enter the first number: 16\n",
            "Enter the second number: 4\n",
            "Enter the calculation you would like to perform ('g' for GCF or 'l' for LCM): g\n",
            "________________________\n",
            "The GCF is: 4\n",
            "________________________\n",
            "Would you like to run the program again? ('y' for yes, 'stop' to exit. ): y\n",
            "Enter the first number: 5\n",
            "Enter the second number: 18\n",
            "Enter the calculation you would like to perform ('g' for GCF or 'l' for LCM): g\n",
            "________________________\n",
            "The GCF is: 1\n",
            "________________________\n",
            "Would you like to run the program again? ('y' for yes, 'stop' to exit): stop\n"
          ]
        }
      ]
    }
  ],
  "metadata": {
    "colab": {
      "provenance": []
    },
    "kernelspec": {
      "display_name": "Python 3",
      "name": "python3"
    },
    "language_info": {
      "name": "python"
    }
  },
  "nbformat": 4,
  "nbformat_minor": 0
}